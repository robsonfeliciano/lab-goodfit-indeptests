{
 "cells": [
  {
   "cell_type": "markdown",
   "metadata": {},
   "source": [
    "## Question 1\n",
    "The following table indicates the number of 6-point scores in an American rugby match in the 1979 season.\n",
    "\n",
    "![](table1.png)\n",
    "\n",
    "Based on these results, we create a Poisson distribution with the sample mean parameter  = 2.435. Is there any reason to believe that at a .05 level the number of scores is a Poisson variable?"
   ]
  },
  {
   "cell_type": "code",
   "execution_count": 3,
   "metadata": {},
   "outputs": [
    {
     "name": "stdout",
     "output_type": "stream",
     "text": [
      "here we have the CHI:  239.85714285714286\n",
      "Critical value is this one here:  10.390851293718153\n",
      "\n",
      "YES, we can reject the null hypothesis\n"
     ]
    }
   ],
   "source": [
    "# your answer here\n",
    "import numpy as np\n",
    "from scipy.stats import chisquare,chi,chi2\n",
    "\n",
    "\n",
    "observed = [35,99,104,110,62,25,10,3]\n",
    "alpha = 0.05\n",
    "\n",
    "n = np.sum(observed)\n",
    "expected = []\n",
    "for i in observed:\n",
    "    a = n/len(observed)\n",
    "    expected.append(a)\n",
    "diff = np.subtract(observed, expected)\n",
    "chi_squared = np.sum(np.divide(np.square(diff),expected))\n",
    "\n",
    "print(\"here we have the CHI: \", chi_squared)\n",
    "\n",
    "df = len(observed) - 1 - 2.435\n",
    "dist = chi2(df)\n",
    "criticalvalue = dist.ppf(1-alpha)\n",
    "\n",
    "print (\"Critical value is this one here: \", criticalvalue)\n",
    "print(\"\")\n",
    "\n",
    "if chi_squared> criticalvalue:\n",
    "    print(\"YES, we can reject the null hypothesis\")\n",
    "else: \n",
    "    print(\":( we don't really know. We can't reject null hypothesis\")\n",
    "    \n",
    "# So we reject that it is a Poisson distribution."
   ]
  },
  {
   "cell_type": "markdown",
   "metadata": {},
   "source": [
    "## BONUS/OPTIONAL - Question 2\n",
    "Let's analyze a discrete distribution. To analyze the number of defective items in a factory in the city of Medellín, we took a random sample of n = 60 articles and observed the number of defectives in the following table:\n",
    "\n",
    "![](table2.png)\n",
    "\n",
    "A poissón distribution was proposed since it is defined for x = 0,1,2,3, .... using the following model:\n",
    "\n",
    "![](image1.png)\n",
    "\n",
    "For some extra insights check the following link: https://online.stat.psu.edu/stat504/node/63/ \n",
    "\n",
    "Does the distribution of defective items follow this distribution?"
   ]
  },
  {
   "cell_type": "code",
   "execution_count": null,
   "metadata": {},
   "outputs": [],
   "source": [
    "# your code here\n"
   ]
  },
  {
   "cell_type": "markdown",
   "metadata": {},
   "source": [
    "## Question 3\n",
    "A quality control engineer takes a sample of 10 tires that come out of an assembly line, and would like to verify on the basis of the data that follows, if the number of tires with defects observed over 200 days, if it is true that 5% of all tires have defects (that is, if the sample comes from a binomial population with n = 10 and p = 0.05). \n",
    "\n",
    "![](table3.png)\n"
   ]
  },
  {
   "cell_type": "code",
   "execution_count": 7,
   "metadata": {},
   "outputs": [
    {
     "data": {
      "text/plain": [
       "7.482643350906314e-32"
      ]
     },
     "execution_count": 7,
     "metadata": {},
     "output_type": "execute_result"
    }
   ],
   "source": [
    "# your answer here\n",
    "from scipy import stats\n",
    "\n",
    "stats.binom_test(62, n=200, p=0.05, alternative='greater')\n",
    "# Since p < 0.05, we can reject the null hipothesis, so this is not binomial distribution."
   ]
  },
  {
   "cell_type": "markdown",
   "metadata": {},
   "source": [
    "## Question 4\n",
    "A researcher gathers information about the patterns of Physical Activity of children in the fifth grade of primary school of a public school. He defines three categories of physical activity (Low, Medium, High). He also inquires about the regular consumption of sugary drinks at school, and defines two categories (Yes = consumed, No = not consumed). We would like to evaluate if there is an association between patterns of physical activity and the consumption of sugary drinks for the children of this school, at a level of 5% significance. The results are in the following table: \n",
    "\n",
    "![](table4.png)"
   ]
  },
  {
   "cell_type": "code",
   "execution_count": 4,
   "metadata": {},
   "outputs": [
    {
     "name": "stdout",
     "output_type": "stream",
     "text": [
      "here we have the CHI:  3270.0000000000005\n",
      "Critical value is this one here:  5.991464547107979\n",
      "\n",
      "YES, we can reject the null hypothesis\n"
     ]
    }
   ],
   "source": [
    "#your answer here\n",
    "import numpy as np\n",
    "from scipy.stats import chisquare,chi,chi2\n",
    "\n",
    "\n",
    "observed_yes = [32,14,6]\n",
    "observed_no = [12,22,9]\n",
    "total = [44,36,15]\n",
    "alpha = 0.05\n",
    "\n",
    "expected_yes = []\n",
    "for i in range(0,3):\n",
    "    a = observed_yes[i]/total[i]\n",
    "    expected_yes.append(a)\n",
    "\n",
    "expected_no = []\n",
    "for i in range(0,3):\n",
    "    a = observed_no[i]/total[i]\n",
    "    expected_no.append(a)\n",
    "diff = np.subtract(observed_yes + observed_no, expected_yes+expected_no)\n",
    "chi_squared = np.sum(np.divide(np.square(diff),expected_yes+expected_no))\n",
    "\n",
    "print(\"here we have the CHI: \", chi_squared)\n",
    "\n",
    "criticalvalue = chi2.ppf(1-alpha,df=2)\n",
    "\n",
    "print (\"Critical value is this one here: \", criticalvalue)\n",
    "print(\"\")\n",
    "\n",
    "if chi_squared> criticalvalue:\n",
    "    print(\"YES, we can reject the null hypothesis\")\n",
    "else: \n",
    "    print(\":( we don't really know. We can't reject null hypothesis\")\n"
   ]
  },
  {
   "cell_type": "code",
   "execution_count": null,
   "metadata": {},
   "outputs": [],
   "source": []
  }
 ],
 "metadata": {
  "kernelspec": {
   "display_name": "Python 3",
   "language": "python",
   "name": "python3"
  },
  "language_info": {
   "codemirror_mode": {
    "name": "ipython",
    "version": 3
   },
   "file_extension": ".py",
   "mimetype": "text/x-python",
   "name": "python",
   "nbconvert_exporter": "python",
   "pygments_lexer": "ipython3",
   "version": "3.8.3"
  }
 },
 "nbformat": 4,
 "nbformat_minor": 2
}
